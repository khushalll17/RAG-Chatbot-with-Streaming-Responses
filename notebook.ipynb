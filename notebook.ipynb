{
 "cells": [
  {
   "cell_type": "code",
   "execution_count": 1,
   "id": "1ca109b9",
   "metadata": {},
   "outputs": [
    {
     "data": {
      "text/plain": [
       "True"
      ]
     },
     "execution_count": 1,
     "metadata": {},
     "output_type": "execute_result"
    }
   ],
   "source": [
    "import os\n",
    "import sys\n",
    "sys.path.append(os.path.abspath(\"..\")) \n",
    "\n",
    "from dotenv import load_dotenv\n",
    "load_dotenv()"
   ]
  },
  {
   "cell_type": "code",
   "execution_count": 2,
   "id": "0b8dcf70",
   "metadata": {},
   "outputs": [
    {
     "name": "stderr",
     "output_type": "stream",
     "text": [
      "c:\\Users\\HP\\Desktop\\langchain models\\src\\embedding.py:6: LangChainDeprecationWarning: The class `HuggingFaceEmbeddings` was deprecated in LangChain 0.2.2 and will be removed in 1.0. An updated version of the class exists in the :class:`~langchain-huggingface package and should be used instead. To use it run `pip install -U :class:`~langchain-huggingface` and import as `from :class:`~langchain_huggingface import HuggingFaceEmbeddings``.\n",
      "  return HuggingFaceEmbeddings(model_name=\"sentence-transformers/all-MiniLM-L6-v2\")\n",
      "c:\\Users\\HP\\Desktop\\langchain models\\venv\\Lib\\site-packages\\tqdm\\auto.py:21: TqdmWarning: IProgress not found. Please update jupyter and ipywidgets. See https://ipywidgets.readthedocs.io/en/stable/user_install.html\n",
      "  from .autonotebook import tqdm as notebook_tqdm\n"
     ]
    }
   ],
   "source": [
    "from src.embedding import load_embedding_model\n",
    "from src.retriever import get_retriever\n",
    "\n",
    "embedding_model = load_embedding_model()\n",
    "retriever = get_retriever(\"vectordb\", embedding_model)"
   ]
  },
  {
   "cell_type": "code",
   "execution_count": 3,
   "id": "7792597e",
   "metadata": {},
   "outputs": [
    {
     "name": "stdout",
     "output_type": "stream",
     "text": [
      "\n",
      "--- Chunk 1 ---\n",
      "relief) on an individual basis; and (3) you are waiving your right to pursue disputes or claims and seek relief in a court of law and to have a jury trial. 2. About eBay eBay is a marketplace that allows users to offer, sell, and buy goods and services in various geographic locations using a\n",
      "\n",
      "--- Chunk 2 ---\n",
      "to sell items; the ability of buyers to pay for items; or that a buyer or seller will actually complete a transaction or return an item. 3. Using eBay In connection with using or accessing our Services you agree to comply with this , our policies, our terms, and all applicable laws, rules, and\n",
      "\n",
      "--- Chunk 3 ---\n",
      "performance history of your individual listings (and their associated campaigns) to others; • For items listed in certain categories, subject to certain programs, and/or offered or sold at certain price points, eBay may require the use of certain payment methods, subject to our Payments methods\n",
      "\n",
      "--- Chunk 4 ---\n",
      "• Content that violates any of eBay's policies may be modified, obfuscated, or deleted at eBay's sole discretion; • We may revise listings to supplement, remove, or correct information; • We strive to create a marketplace where buyers find what they are looking for. Therefore, the appearance or\n"
     ]
    }
   ],
   "source": [
    "query = \"What are the benefits of eBay for sellers?\"\n",
    "results = retriever.invoke(query)\n",
    "\n",
    "for i, doc in enumerate(results, 1):\n",
    "    print(f\"\\n--- Chunk {i} ---\\n{doc.page_content[:300]}\")"
   ]
  },
  {
   "cell_type": "code",
   "execution_count": 4,
   "id": "da4b3131",
   "metadata": {},
   "outputs": [],
   "source": [
    "from src.generator import load_llm\n",
    "from src.rag_pipeline import build_chain\n",
    "\n",
    "llm = load_llm()\n",
    "chain = build_chain(retriever, llm)"
   ]
  },
  {
   "cell_type": "code",
   "execution_count": 5,
   "id": "b71998ec",
   "metadata": {},
   "outputs": [
    {
     "name": "stdout",
     "output_type": "stream",
     "text": [
      "🔍 Question: Explain the uses and advantages of eBay platform.\n",
      "💬 Answer:\n",
      " \n",
      "        eBay is a marketplace where users can offer, sell, and buy goods and services. Some advantages of using eBay include:\n",
      "\n",
      "1. Wide reach: eBay has a large user base, allowing sellers to reach a broad audience.\n",
      "2. Convenience: Buying and selling on eBay is easy and convenient as it can be done from anywhere, at any time.\n",
      "3. Affordability: eBay offers a range of products at varying prices, making it a great option for both buyers and sellers looking for affordability.\n",
      "4. Security: eBay has measures in place to ensure secure transactions, such as the ability to use PayPal for payment and a feedback system to help buyers make informed decisions.\n",
      "5. Global marketplace: eBay operates in various geographic locations, making it an ideal platform for both domestic and international transactions.\n",
      "\n"
     ]
    }
   ],
   "source": [
    "question = \"Explain the uses and advantages of eBay platform.\"\n",
    "answer = chain.invoke(question)\n",
    "\n",
    "print(\"🔍 Question:\", question)\n",
    "print(\"💬 Answer:\\n\", answer)"
   ]
  },
  {
   "cell_type": "code",
   "execution_count": null,
   "id": "422ce18d",
   "metadata": {},
   "outputs": [],
   "source": []
  }
 ],
 "metadata": {
  "kernelspec": {
   "display_name": "venv",
   "language": "python",
   "name": "python3"
  },
  "language_info": {
   "codemirror_mode": {
    "name": "ipython",
    "version": 3
   },
   "file_extension": ".py",
   "mimetype": "text/x-python",
   "name": "python",
   "nbconvert_exporter": "python",
   "pygments_lexer": "ipython3",
   "version": "3.13.1"
  }
 },
 "nbformat": 4,
 "nbformat_minor": 5
}
